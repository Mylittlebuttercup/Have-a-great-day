{
 "cells": [
  {
   "cell_type": "code",
   "execution_count": 2,
   "id": "8245c047",
   "metadata": {},
   "outputs": [
    {
     "name": "stdout",
     "output_type": "stream",
     "text": [
      "Requirement already satisfied: pymysql in c:\\users\\user\\anaconda3\\lib\\site-packages (1.0.2)\n"
     ]
    }
   ],
   "source": [
    "!pip install pymysql "
   ]
  },
  {
   "cell_type": "code",
   "execution_count": 22,
   "id": "d6892f5e",
   "metadata": {},
   "outputs": [],
   "source": [
    "def getdatas(cur) : \n",
    "    result = cur.fetchall()\n",
    "    l = []\n",
    "    for a in result :    \n",
    "        d = {}\n",
    "        fs = [c[0] for c  in cur.description ]\n",
    "        for i in range(len(fs)) :\n",
    "           d[fs[i]] = a[i]    \n",
    "        l.append(d)\n",
    "    return l\n",
    "\n",
    "def query(cursor, sql, param ) :\n",
    "    \n",
    "    cursor.execute(sql, param ) \n",
    "    return getdatas(cursor)\n",
    "\n",
    "def execute(cursor, sql, param ) :    \n",
    "    return cursor.execute(sql, param )    "
   ]
  },
  {
   "cell_type": "code",
   "execution_count": 23,
   "id": "0c1854f0",
   "metadata": {},
   "outputs": [
    {
     "name": "stdout",
     "output_type": "stream",
     "text": [
      "(1, 'lee', '123', '홍길동', None, -1, datetime.datetime(2021, 10, 1, 13, 44, 22))\n",
      "(2, 'kim', '123', '홍길동', None, -1, datetime.datetime(2021, 10, 1, 13, 44, 22))\n",
      "(3, 'shin', '123', '신사임당', None, -1, datetime.datetime(2021, 10, 1, 13, 44, 22))\n",
      "(4, 'shin', '123', '신사임당', None, -1, datetime.datetime(2021, 10, 1, 14, 40, 59))\n"
     ]
    }
   ],
   "source": [
    "import pymysql \n",
    "\n",
    "conn = pymysql.connect(host='localhost', user='test', password='1234', charset='utf8', db='hgd_db') \n",
    "cursor = conn.cursor() \n",
    "\n",
    "sql = \"SELECT * FROM member\" \n",
    "\n",
    "cursor.execute(sql) \n",
    "res = cursor.fetchall() \n",
    "\n",
    "for data in res: \n",
    "        print(data) \n"
   ]
  },
  {
   "cell_type": "code",
   "execution_count": 21,
   "id": "25cd7241",
   "metadata": {},
   "outputs": [
    {
     "data": {
      "text/plain": [
       "[{'pid': 1,\n",
       "  'userid': 'lee',\n",
       "  'userpwd': '123',\n",
       "  'username': '홍길동',\n",
       "  'hobby': None,\n",
       "  'gender': -1,\n",
       "  'regdate': datetime.datetime(2021, 10, 1, 13, 44, 22)}]"
      ]
     },
     "execution_count": 21,
     "metadata": {},
     "output_type": "execute_result"
    }
   ],
   "source": [
    "userid = 'lee'\n",
    "userpwd = '123'\n",
    "\n",
    "sql = \"SELECT * FROM member where userid=%s and userpwd=%s\"\n",
    "\n",
    "query( cursor, sql, (userid, userpwd) ) "
   ]
  },
  {
   "cell_type": "code",
   "execution_count": 26,
   "id": "b340c702",
   "metadata": {},
   "outputs": [
    {
     "name": "stdout",
     "output_type": "stream",
     "text": [
      "1\n"
     ]
    }
   ],
   "source": [
    "userid = 'uuuu'\n",
    "userpwd = '123'\n",
    "username = '신사임당'\n",
    "\n",
    "\n",
    "sql = \"iNSERT INTO MEMBER (userid, userpwd, username) VALUES (%s,%s,%s)\"\n",
    "r = execute(cursor, sql, (userid, userpwd, username))\n",
    "print(r)"
   ]
  },
  {
   "cell_type": "code",
   "execution_count": 27,
   "id": "b8942311",
   "metadata": {},
   "outputs": [
    {
     "name": "stdout",
     "output_type": "stream",
     "text": [
      "5\n"
     ]
    }
   ],
   "source": [
    "userid = 'uuuu'\n",
    "userpwd = '123'\n",
    "username = '신사임당'\n",
    "\n",
    "sql = \"update member set hobby='camera'\"\n",
    "r = execute(cursor, sql, ())\n",
    "print(r)"
   ]
  }
 ],
 "metadata": {
  "kernelspec": {
   "display_name": "Python 3",
   "language": "python",
   "name": "python3"
  },
  "language_info": {
   "codemirror_mode": {
    "name": "ipython",
    "version": 3
   },
   "file_extension": ".py",
   "mimetype": "text/x-python",
   "name": "python",
   "nbconvert_exporter": "python",
   "pygments_lexer": "ipython3",
   "version": "3.8.8"
  }
 },
 "nbformat": 4,
 "nbformat_minor": 5
}
